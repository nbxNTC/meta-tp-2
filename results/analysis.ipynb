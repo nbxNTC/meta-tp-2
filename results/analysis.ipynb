{
 "cells": [
  {
   "cell_type": "code",
   "execution_count": 1,
   "id": "92bfb8e7",
   "metadata": {},
   "outputs": [],
   "source": [
    "import pandas as pd\n",
    "import numpy as np\n",
    "import matplotlib.pyplot as plt\n",
    "import glob"
   ]
  },
  {
   "cell_type": "code",
   "execution_count": 2,
   "id": "5aa31cbb",
   "metadata": {},
   "outputs": [
    {
     "data": {
      "text/html": [
       "<style>div.output_scroll { height: 300rem; }</style>"
      ],
      "text/plain": [
       "<IPython.core.display.HTML object>"
      ]
     },
     "metadata": {},
     "output_type": "display_data"
    }
   ],
   "source": [
    "from IPython.core.display import display, HTML\n",
    "display(HTML(\"<style>div.output_scroll { height: 300rem; }</style>\"))"
   ]
  },
  {
   "cell_type": "markdown",
   "id": "78762c15",
   "metadata": {},
   "source": [
    "# Problema 1"
   ]
  },
  {
   "cell_type": "code",
   "execution_count": 57,
   "id": "491520e3",
   "metadata": {},
   "outputs": [],
   "source": [
    "pd.set_option('display.max_columns', None)  \n",
    "\n",
    "file_1a = glob.glob('./1_a_*')[0]\n",
    "df_1a = pd.read_json(file_1a)\n",
    "\n",
    "file_1b = glob.glob('./1_b_*')[0]\n",
    "df_1b = pd.read_json(file_1b)\n",
    "\n",
    "file_2a = glob.glob('./2_a_*')[0]\n",
    "df_2a = pd.read_json(file_2a)\n",
    "\n",
    "file_2b = glob.glob('./2_b_*')[0]\n",
    "df_2b = pd.read_json(file_2b)"
   ]
  },
  {
   "cell_type": "code",
   "execution_count": 50,
   "id": "907d2ee3",
   "metadata": {},
   "outputs": [],
   "source": [
    "problems = [\n",
    "    {\"title\": \"1\", \"a\": df_1a, \"b\": df_1b},\n",
    "    {\"title\": \"2\", \"a\": df_2a, \"b\": df_2b},\n",
    "]"
   ]
  },
  {
   "cell_type": "code",
   "execution_count": null,
   "id": "d2555e68",
   "metadata": {},
   "outputs": [],
   "source": [
    "for p in problems:\n",
    "    print('\\t*** {} ***'.format(p['title']))\n",
    "    \n",
    "    df = pd.DataFrame({\n",
    "        'a': p['a'].objective_function_value,\n",
    "        'b': p['b'].objective_function_value\n",
    "    })\n",
    "    \n",
    "    print('CONFIG A \\n{}\\n'.format(p['a'].objective_function_value.describe()))\n",
    "    print('CONFIG B \\n{}'.format(p['b'].objective_function_value.describe()))\n",
    "    \n",
    "    df.plot(kind='box', showmeans=True, title=p['title'])\n",
    "    \n",
    "    best_of_all_a = p['a'].sort_values(by='fitness', ascending=False).head(1)\n",
    "    best_of_all_b = p['b'].sort_values(by='fitness', ascending=False).head(1)\n",
    "    \n",
    "    print('MELHOR A \\n{}\\n'.format(best_of_all_a.to_html()))\n",
    "    print('MELHOR B \\n{}\\n'.format(best_of_all_b.to_html()))\n",
    "    \n",
    "    print('\\t*** \\t ***\\n')"
   ]
  },
  {
   "cell_type": "code",
   "execution_count": null,
   "id": "f6baa2e9",
   "metadata": {},
   "outputs": [],
   "source": []
  }
 ],
 "metadata": {
  "kernelspec": {
   "display_name": "Python 3",
   "language": "python",
   "name": "python3"
  },
  "language_info": {
   "codemirror_mode": {
    "name": "ipython",
    "version": 3
   },
   "file_extension": ".py",
   "mimetype": "text/x-python",
   "name": "python",
   "nbconvert_exporter": "python",
   "pygments_lexer": "ipython3",
   "version": "3.9.6"
  }
 },
 "nbformat": 4,
 "nbformat_minor": 5
}
