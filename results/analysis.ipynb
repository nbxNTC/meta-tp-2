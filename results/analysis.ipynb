{
 "cells": [
  {
   "cell_type": "code",
   "execution_count": 1,
   "id": "92bfb8e7",
   "metadata": {},
   "outputs": [],
   "source": [
    "import pandas as pd\n",
    "import numpy as np\n",
    "import matplotlib.pyplot as plt\n",
    "import glob"
   ]
  },
  {
   "cell_type": "code",
   "execution_count": 2,
   "id": "5aa31cbb",
   "metadata": {},
   "outputs": [
    {
     "data": {
      "text/html": [
       "<style>div.output_scroll { height: 300rem; }</style>"
      ],
      "text/plain": [
       "<IPython.core.display.HTML object>"
      ]
     },
     "metadata": {},
     "output_type": "display_data"
    }
   ],
   "source": [
    "from IPython.core.display import display, HTML\n",
    "display(HTML(\"<style>div.output_scroll { height: 300rem; }</style>\"))"
   ]
  },
  {
   "cell_type": "markdown",
   "id": "88775117",
   "metadata": {},
   "source": [
    "# Problema 1"
   ]
  },
  {
   "cell_type": "code",
   "execution_count": 57,
   "id": "58e6f46f",
   "metadata": {},
   "outputs": [],
   "source": [
    "pd.set_option('display.max_columns', None)  \n",
    "\n",
    "file_1a = glob.glob('./1_a_*')[0]\n",
    "df_1a = pd.read_json(file_1a)\n",
    "\n",
    "file_1b = glob.glob('./1_b_*')[0]\n",
    "df_1b = pd.read_json(file_1b)\n",
    "\n",
    "file_2a = glob.glob('./2_a_*')[0]\n",
    "df_2a = pd.read_json(file_2a)\n",
    "\n",
    "file_2b = glob.glob('./2_b_*')[0]\n",
    "df_2b = pd.read_json(file_2b)"
   ]
  },
  {
   "cell_type": "code",
   "execution_count": 50,
   "id": "6dea4f9d",
   "metadata": {},
   "outputs": [],
   "source": [
    "problems = [\n",
    "    {\"title\": \"1\", \"a\": df_1a, \"b\": df_1b},\n",
    "    {\"title\": \"2\", \"a\": df_2a, \"b\": df_2b},\n",
    "]"
   ]
  },
  {
   "cell_type": "code",
   "execution_count": 61,
   "id": "d2555e68",
   "metadata": {},
   "outputs": [
    {
     "name": "stdout",
     "output_type": "stream",
     "text": [
      "\t*** 1 ***\n",
      "CONFIG A \n",
      "count      30.000000\n",
      "mean    -7000.034764\n",
      "std         0.338566\n",
      "min     -7000.927077\n",
      "25%     -7000.153061\n",
      "50%     -7000.060855\n",
      "75%     -6999.864883\n",
      "max     -6998.997023\n",
      "Name: objective_function_value, dtype: float64\n",
      "\n",
      "CONFIG B \n",
      "count      30.000000\n",
      "mean    -5821.469547\n",
      "std      2762.802895\n",
      "min     -7919.114445\n",
      "25%     -6859.477088\n",
      "50%     -6645.908436\n",
      "75%     -5995.165053\n",
      "max      4036.671694\n",
      "Name: objective_function_value, dtype: float64\n",
      "MELHOR A \n",
      "<table border=\"1\" class=\"dataframe\">\n",
      "  <thead>\n",
      "    <tr style=\"text-align: right;\">\n",
      "      <th></th>\n",
      "      <th>fitness</th>\n",
      "      <th>objective_function_value</th>\n",
      "      <th>value</th>\n",
      "      <th>generation</th>\n",
      "      <th>run</th>\n",
      "    </tr>\n",
      "  </thead>\n",
      "  <tbody>\n",
      "    <tr>\n",
      "      <th>8</th>\n",
      "      <td>8500.0</td>\n",
      "      <td>-7000.02465</td>\n",
      "      <td>[19.99991783267328, 3.661616330372887e-15]</td>\n",
      "      <td>443</td>\n",
      "      <td>8</td>\n",
      "    </tr>\n",
      "  </tbody>\n",
      "</table>\n",
      "\n",
      "MELHOR B \n",
      "<table border=\"1\" class=\"dataframe\">\n",
      "  <thead>\n",
      "    <tr style=\"text-align: right;\">\n",
      "      <th></th>\n",
      "      <th>fitness</th>\n",
      "      <th>objective_function_value</th>\n",
      "      <th>value</th>\n",
      "      <th>generation</th>\n",
      "      <th>run</th>\n",
      "    </tr>\n",
      "  </thead>\n",
      "  <tbody>\n",
      "    <tr>\n",
      "      <th>17</th>\n",
      "      <td>8493.47687</td>\n",
      "      <td>-6989.942369</td>\n",
      "      <td>[26.580788345042475, 0.00410641665395535]</td>\n",
      "      <td>487</td>\n",
      "      <td>17</td>\n",
      "    </tr>\n",
      "  </tbody>\n",
      "</table>\n",
      "\n",
      "\t*** \t ***\n",
      "\n",
      "\t*** 2 ***\n",
      "CONFIG A \n",
      "count      30.000000\n",
      "mean     7630.604961\n",
      "std         0.981566\n",
      "min      7628.958811\n",
      "25%      7629.674377\n",
      "50%      7630.643105\n",
      "75%      7631.279549\n",
      "max      7632.574129\n",
      "Name: objective_function_value, dtype: float64\n",
      "\n",
      "CONFIG B \n",
      "count       30.000000\n",
      "mean     13528.868540\n",
      "std        901.774676\n",
      "min      10999.834616\n",
      "25%      12959.436115\n",
      "50%      13756.779308\n",
      "75%      14153.758057\n",
      "max      15039.203934\n",
      "Name: objective_function_value, dtype: float64\n",
      "MELHOR A \n",
      "<table border=\"1\" class=\"dataframe\">\n",
      "  <thead>\n",
      "    <tr style=\"text-align: right;\">\n",
      "      <th></th>\n",
      "      <th>fitness</th>\n",
      "      <th>objective_function_value</th>\n",
      "      <th>value</th>\n",
      "      <th>generation</th>\n",
      "      <th>run</th>\n",
      "    </tr>\n",
      "  </thead>\n",
      "  <tbody>\n",
      "    <tr>\n",
      "      <th>5</th>\n",
      "      <td>-7628.958811</td>\n",
      "      <td>7628.958811</td>\n",
      "      <td>[2.3010446065663138e-07, 2.3847964401441537e-07, 5.038606937521696e-07, 60.0357384126008, 60.005612526154756, 60.0232369674468, 60.00009917718438, 60.004887109627894, 60.02196931998279, 40.00205115531847, 40.0019638291424, 55.00100863562843, 55.03517310908087]</td>\n",
      "      <td>499</td>\n",
      "      <td>5</td>\n",
      "    </tr>\n",
      "  </tbody>\n",
      "</table>\n",
      "\n",
      "MELHOR B \n",
      "<table border=\"1\" class=\"dataframe\">\n",
      "  <thead>\n",
      "    <tr style=\"text-align: right;\">\n",
      "      <th></th>\n",
      "      <th>fitness</th>\n",
      "      <th>objective_function_value</th>\n",
      "      <th>value</th>\n",
      "      <th>generation</th>\n",
      "      <th>run</th>\n",
      "    </tr>\n",
      "  </thead>\n",
      "  <tbody>\n",
      "    <tr>\n",
      "      <th>9</th>\n",
      "      <td>-10999.834616</td>\n",
      "      <td>10999.834616</td>\n",
      "      <td>[0.608884637116815, 30.938576404747273, 9.872247448311523, 68.3913609536066, 67.35405018494781, 109.48994289369328, 73.7588082441635, 119.97343547418947, 87.23849642552987, 41.831808965667655, 53.482845251836274, 102.88196339080339, 64.28886172250118]</td>\n",
      "      <td>499</td>\n",
      "      <td>9</td>\n",
      "    </tr>\n",
      "  </tbody>\n",
      "</table>\n",
      "\n",
      "\t*** \t ***\n",
      "\n"
     ]
    },
    {
     "data": {
      "image/png": "[encoded data removed]",
      "text/plain": [
       "<Figure size 432x288 with 1 Axes>"
      ]
     },
     "metadata": {
      "needs_background": "light"
     },
     "output_type": "display_data"
    },
    {
     "data": {
      "image/png": "[encoded data removed]",
      "text/plain": [
       "<Figure size 432x288 with 1 Axes>"
      ]
     },
     "metadata": {
      "needs_background": "light"
     },
     "output_type": "display_data"
    }
   ],
   "source": [
    "for p in problems:\n",
    "    print('\\t*** {} ***'.format(p['title']))\n",
    "    \n",
    "    df = pd.DataFrame({\n",
    "        'a': p['a'].objective_function_value,\n",
    "        'b': p['b'].objective_function_value\n",
    "    })\n",
    "    \n",
    "    print('CONFIG A \\n{}\\n'.format(p['a'].objective_function_value.describe()))\n",
    "    print('CONFIG B \\n{}'.format(p['b'].objective_function_value.describe()))\n",
    "    \n",
    "    df.plot(kind='box', showmeans=True, title=p['title'])\n",
    "    \n",
    "    best_of_all_a = p['a'].sort_values(by='fitness', ascending=False).head(1)\n",
    "    best_of_all_b = p['b'].sort_values(by='fitness', ascending=False).head(1)\n",
    "    \n",
    "    print('MELHOR A \\n{}\\n'.format(best_of_all_a.to_html()))\n",
    "    print('MELHOR B \\n{}\\n'.format(best_of_all_b.to_html()))\n",
    "    \n",
    "    print('\\t*** \\t ***\\n')"
   ]
  },
  {
   "cell_type": "code",
   "execution_count": null,
   "id": "f6baa2e9",
   "metadata": {},
   "outputs": [],
   "source": []
  }
 ],
 "metadata": {
  "kernelspec": {
   "display_name": "Python 3",
   "language": "python",
   "name": "python3"
  },
  "language_info": {
   "codemirror_mode": {
    "name": "ipython",
    "version": 3
   },
   "file_extension": ".py",
   "mimetype": "text/x-python",
   "name": "python",
   "nbconvert_exporter": "python",
   "pygments_lexer": "ipython3",
   "version": "3.9.6"
  }
 },
 "nbformat": 4,
 "nbformat_minor": 5
}
