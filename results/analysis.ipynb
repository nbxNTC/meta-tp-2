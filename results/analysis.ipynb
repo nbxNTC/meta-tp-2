{
 "cells": [
  {
   "cell_type": "code",
   "execution_count": 1,
   "id": "92bfb8e7",
   "metadata": {},
   "outputs": [],
   "source": [
    "import pandas as pd\n",
    "import numpy as np\n",
    "import matplotlib.pyplot as plt\n",
    "import glob"
   ]
  },
  {
   "cell_type": "code",
   "execution_count": 2,
   "id": "5aa31cbb",
   "metadata": {},
   "outputs": [
    {
     "data": {
      "text/html": [
       "<style>div.output_scroll { height: 300rem; }</style>"
      ],
      "text/plain": [
       "<IPython.core.display.HTML object>"
      ]
     },
     "metadata": {},
     "output_type": "display_data"
    }
   ],
   "source": [
    "from IPython.core.display import display, HTML\n",
    "display(HTML(\"<style>div.output_scroll { height: 300rem; }</style>\"))"
   ]
  },
  {
   "cell_type": "code",
   "execution_count": 5,
   "id": "957efa48",
   "metadata": {},
   "outputs": [],
   "source": [
    "problems = [\n",
    "    {'title': '1', 'a': pd.read_json(glob.glob('./1_a/run_*')[0]), 'b': pd.read_json(glob.glob('./1_b/run_*')[0])},\n",
    "#     {'title': '2', 'a': pd.read_json(glob.glob('./2_a/run_*')[0]), 'b': pd.read_json(glob.glob('./2_b/run_*')[0])}\n",
    "]"
   ]
  },
  {
   "cell_type": "code",
   "execution_count": 7,
   "id": "a68f0efb",
   "metadata": {},
   "outputs": [
    {
     "data": {
      "text/html": [
       "<div>\n",
       "<style scoped>\n",
       "    .dataframe tbody tr th:only-of-type {\n",
       "        vertical-align: middle;\n",
       "    }\n",
       "\n",
       "    .dataframe tbody tr th {\n",
       "        vertical-align: top;\n",
       "    }\n",
       "\n",
       "    .dataframe thead th {\n",
       "        text-align: right;\n",
       "    }\n",
       "</style>\n",
       "<table border=\"1\" class=\"dataframe\">\n",
       "  <thead>\n",
       "    <tr style=\"text-align: right;\">\n",
       "      <th></th>\n",
       "      <th>min</th>\n",
       "      <th>max</th>\n",
       "      <th>mean</th>\n",
       "      <th>std</th>\n",
       "      <th>best</th>\n",
       "      <th>gen</th>\n",
       "    </tr>\n",
       "  </thead>\n",
       "  <tbody>\n",
       "    <tr>\n",
       "      <th>0</th>\n",
       "      <td>-931151.941449</td>\n",
       "      <td>7258.518528</td>\n",
       "      <td>-225328.448112</td>\n",
       "      <td>202970.168835</td>\n",
       "      <td>#37376 in gen 0, fit([23.227072777072912, 0.80...</td>\n",
       "      <td>0</td>\n",
       "    </tr>\n",
       "    <tr>\n",
       "      <th>1</th>\n",
       "      <td>-159760.514355</td>\n",
       "      <td>7700.612081</td>\n",
       "      <td>-6724.268089</td>\n",
       "      <td>24239.929079</td>\n",
       "      <td>#19744 in gen 0, fit([14.477025408405249, 0.27...</td>\n",
       "      <td>1</td>\n",
       "    </tr>\n",
       "    <tr>\n",
       "      <th>2</th>\n",
       "      <td>1681.296047</td>\n",
       "      <td>8141.982922</td>\n",
       "      <td>5828.659491</td>\n",
       "      <td>875.285522</td>\n",
       "      <td>#34592 in gen 1, fit([19.893541752618532, 0.27...</td>\n",
       "      <td>2</td>\n",
       "    </tr>\n",
       "    <tr>\n",
       "      <th>3</th>\n",
       "      <td>5452.761976</td>\n",
       "      <td>8141.982922</td>\n",
       "      <td>7304.136871</td>\n",
       "      <td>564.825306</td>\n",
       "      <td>#31152 in gen 2, fit([19.893541752618532, 0.27...</td>\n",
       "      <td>3</td>\n",
       "    </tr>\n",
       "    <tr>\n",
       "      <th>4</th>\n",
       "      <td>6964.846208</td>\n",
       "      <td>8195.470413</td>\n",
       "      <td>7929.616334</td>\n",
       "      <td>208.614328</td>\n",
       "      <td>#08656 in gen 3, fit([19.893541752618532, 0.23...</td>\n",
       "      <td>4</td>\n",
       "    </tr>\n",
       "    <tr>\n",
       "      <th>...</th>\n",
       "      <td>...</td>\n",
       "      <td>...</td>\n",
       "      <td>...</td>\n",
       "      <td>...</td>\n",
       "      <td>...</td>\n",
       "      <td>...</td>\n",
       "    </tr>\n",
       "    <tr>\n",
       "      <th>496</th>\n",
       "      <td>8188.550623</td>\n",
       "      <td>8499.999998</td>\n",
       "      <td>8499.011737</td>\n",
       "      <td>14.992570</td>\n",
       "      <td>#44000 in gen 495, fit([20.000313054191334, 4....</td>\n",
       "      <td>496</td>\n",
       "    </tr>\n",
       "    <tr>\n",
       "      <th>497</th>\n",
       "      <td>8186.339001</td>\n",
       "      <td>8499.999998</td>\n",
       "      <td>8497.367135</td>\n",
       "      <td>23.207595</td>\n",
       "      <td>#73920 in gen 496, fit([20.000313054191334, 4....</td>\n",
       "      <td>497</td>\n",
       "    </tr>\n",
       "    <tr>\n",
       "      <th>498</th>\n",
       "      <td>8282.233459</td>\n",
       "      <td>8499.999998</td>\n",
       "      <td>8498.279500</td>\n",
       "      <td>15.009341</td>\n",
       "      <td>#48080 in gen 497, fit([20.000313054191334, 5....</td>\n",
       "      <td>498</td>\n",
       "    </tr>\n",
       "    <tr>\n",
       "      <th>499</th>\n",
       "      <td>8341.182823</td>\n",
       "      <td>8499.999998</td>\n",
       "      <td>8498.507332</td>\n",
       "      <td>13.738988</td>\n",
       "      <td>#63552 in gen 498, fit([20.000313054191334, 4....</td>\n",
       "      <td>499</td>\n",
       "    </tr>\n",
       "    <tr>\n",
       "      <th>500</th>\n",
       "      <td>8157.580874</td>\n",
       "      <td>8499.999998</td>\n",
       "      <td>8495.853914</td>\n",
       "      <td>28.740593</td>\n",
       "      <td>#31152 in gen 498, fit([20.000313054191334, 4....</td>\n",
       "      <td>500</td>\n",
       "    </tr>\n",
       "  </tbody>\n",
       "</table>\n",
       "<p>501 rows × 6 columns</p>\n",
       "</div>"
      ],
      "text/plain": [
       "               min          max           mean            std  \\\n",
       "0   -931151.941449  7258.518528 -225328.448112  202970.168835   \n",
       "1   -159760.514355  7700.612081   -6724.268089   24239.929079   \n",
       "2      1681.296047  8141.982922    5828.659491     875.285522   \n",
       "3      5452.761976  8141.982922    7304.136871     564.825306   \n",
       "4      6964.846208  8195.470413    7929.616334     208.614328   \n",
       "..             ...          ...            ...            ...   \n",
       "496    8188.550623  8499.999998    8499.011737      14.992570   \n",
       "497    8186.339001  8499.999998    8497.367135      23.207595   \n",
       "498    8282.233459  8499.999998    8498.279500      15.009341   \n",
       "499    8341.182823  8499.999998    8498.507332      13.738988   \n",
       "500    8157.580874  8499.999998    8495.853914      28.740593   \n",
       "\n",
       "                                                  best  gen  \n",
       "0    #37376 in gen 0, fit([23.227072777072912, 0.80...    0  \n",
       "1    #19744 in gen 0, fit([14.477025408405249, 0.27...    1  \n",
       "2    #34592 in gen 1, fit([19.893541752618532, 0.27...    2  \n",
       "3    #31152 in gen 2, fit([19.893541752618532, 0.27...    3  \n",
       "4    #08656 in gen 3, fit([19.893541752618532, 0.23...    4  \n",
       "..                                                 ...  ...  \n",
       "496  #44000 in gen 495, fit([20.000313054191334, 4....  496  \n",
       "497  #73920 in gen 496, fit([20.000313054191334, 4....  497  \n",
       "498  #48080 in gen 497, fit([20.000313054191334, 5....  498  \n",
       "499  #63552 in gen 498, fit([20.000313054191334, 4....  499  \n",
       "500  #31152 in gen 498, fit([20.000313054191334, 4....  500  \n",
       "\n",
       "[501 rows x 6 columns]"
      ]
     },
     "execution_count": 7,
     "metadata": {},
     "output_type": "execute_result"
    }
   ],
   "source": [
    "problems[0]['a']"
   ]
  },
  {
   "cell_type": "code",
   "execution_count": 16,
   "id": "d2555e68",
   "metadata": {},
   "outputs": [
    {
     "name": "stdout",
     "output_type": "stream",
     "text": [
      "\t*** 1 - a) ***\n",
      "HC \n",
      "count    30.000000\n",
      "mean     -0.264049\n",
      "std       1.436836\n",
      "min      -1.913115\n",
      "25%      -1.521251\n",
      "50%      -0.242874\n",
      "75%       1.228837\n",
      "max       1.240485\n",
      "Name: hc, dtype: float64\n",
      "\n",
      "ILS \n",
      "count    30.000000\n",
      "mean      0.433561\n",
      "std       1.215818\n",
      "min      -1.910092\n",
      "25%      -0.844711\n",
      "50%       1.228482\n",
      "75%       1.229783\n",
      "max       1.510261\n",
      "Name: ils, dtype: float64\n",
      "\t*** \t ***\n",
      "\n",
      "\t*** 1 - b) ***\n",
      "HC \n",
      "count    30.000000\n",
      "mean     -1.912136\n",
      "std       0.001312\n",
      "min      -1.913168\n",
      "25%      -1.912979\n",
      "50%      -1.912488\n",
      "75%      -1.911885\n",
      "max      -1.906510\n",
      "Name: hc, dtype: float64\n",
      "\n",
      "ILS \n",
      "count    30.000000\n",
      "mean     -1.912661\n",
      "std       0.000619\n",
      "min      -1.913215\n",
      "25%      -1.913067\n",
      "50%      -1.912855\n",
      "75%      -1.912468\n",
      "max      -1.910281\n",
      "Name: ils, dtype: float64\n",
      "\t*** \t ***\n",
      "\n",
      "\t*** 2 - a) ***\n",
      "HC \n",
      "count     30.000000\n",
      "mean    -507.114183\n",
      "std      245.121166\n",
      "min     -948.285209\n",
      "25%     -630.504855\n",
      "50%     -424.256900\n",
      "75%     -315.160867\n",
      "max     -110.811574\n",
      "Name: hc, dtype: float64\n",
      "\n",
      "ILS \n",
      "count     30.000000\n",
      "mean    -571.793068\n",
      "std      191.732634\n",
      "min     -923.058723\n",
      "25%     -622.127084\n",
      "50%     -554.512865\n",
      "75%     -430.353842\n",
      "max     -200.301893\n",
      "Name: ils, dtype: float64\n",
      "\t*** \t ***\n",
      "\n",
      "\t*** 2 - b) ***\n",
      "HC \n",
      "count     30.000000\n",
      "mean    -959.552555\n",
      "std        0.067009\n",
      "min     -959.631515\n",
      "25%     -959.605869\n",
      "50%     -959.573993\n",
      "75%     -959.513564\n",
      "max     -959.388812\n",
      "Name: hc, dtype: float64\n",
      "\n",
      "ILS \n",
      "count     30.000000\n",
      "mean    -959.601634\n",
      "std        0.026641\n",
      "min     -959.636417\n",
      "25%     -959.622381\n",
      "50%     -959.606548\n",
      "75%     -959.587180\n",
      "max     -959.517764\n",
      "Name: ils, dtype: float64\n",
      "\t*** \t ***\n",
      "\n"
     ]
    },
    {
     "data": {
      "image/png": "[encoded data removed]",
      "text/plain": [
       "<Figure size 432x288 with 1 Axes>"
      ]
     },
     "metadata": {
      "needs_background": "light"
     },
     "output_type": "display_data"
    },
    {
     "data": {
      "image/png": "[encoded data removed]",
      "text/plain": [
       "<Figure size 432x288 with 1 Axes>"
      ]
     },
     "metadata": {
      "needs_background": "light"
     },
     "output_type": "display_data"
    },
    {
     "data": {
      "image/png": "[encoded data removed]",
      "text/plain": [
       "<Figure size 432x288 with 1 Axes>"
      ]
     },
     "metadata": {
      "needs_background": "light"
     },
     "output_type": "display_data"
    },
    {
     "data": {
      "image/png": "[encoded data removed]",
      "text/plain": [
       "<Figure size 432x288 with 1 Axes>"
      ]
     },
     "metadata": {
      "needs_background": "light"
     },
     "output_type": "display_data"
    }
   ],
   "source": [
    "for p in problems:\n",
    "    print('\\t*** {} ***'.format(p['title']))\n",
    "    \n",
    "    \n",
    "    \n",
    "#     df = pd.DataFrame({\n",
    "#         'hc': p['hc'].value,\n",
    "#         'ils': p['ils'].value\n",
    "#     })\n",
    "    \n",
    "#     print('HC \\n{}\\n'.format(df.hc.describe()))\n",
    "#     print('ILS \\n{}'.format(df.ils.describe()))\n",
    "    \n",
    "#     df.plot(kind='box', showmeans=True, title=p['title'])\n",
    "    \n",
    "#     print('\\t*** \\t ***\\n'.format(p['title']))"
   ]
  },
  {
   "cell_type": "code",
   "execution_count": null,
   "id": "f6baa2e9",
   "metadata": {},
   "outputs": [],
   "source": []
  }
 ],
 "metadata": {
  "kernelspec": {
   "display_name": "Python 3",
   "language": "python",
   "name": "python3"
  },
  "language_info": {
   "codemirror_mode": {
    "name": "ipython",
    "version": 3
   },
   "file_extension": ".py",
   "mimetype": "text/x-python",
   "name": "python",
   "nbconvert_exporter": "python",
   "pygments_lexer": "ipython3",
   "version": "3.9.6"
  }
 },
 "nbformat": 4,
 "nbformat_minor": 5
}
