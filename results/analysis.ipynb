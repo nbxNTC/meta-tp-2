{
 "cells": [
  {
   "cell_type": "code",
   "execution_count": 1,
   "id": "92bfb8e7",
   "metadata": {},
   "outputs": [],
   "source": [
    "import pandas as pd\n",
    "import numpy as np\n",
    "import matplotlib.pyplot as plt\n",
    "import glob"
   ]
  },
  {
   "cell_type": "code",
   "execution_count": 2,
   "id": "5aa31cbb",
   "metadata": {},
   "outputs": [
    {
     "data": {
      "text/html": [
       "<style>div.output_scroll { height: 300rem; }</style>"
      ],
      "text/plain": [
       "<IPython.core.display.HTML object>"
      ]
     },
     "metadata": {},
     "output_type": "display_data"
    }
   ],
   "source": [
    "from IPython.core.display import display, HTML\n",
    "display(HTML(\"<style>div.output_scroll { height: 300rem; }</style>\"))"
   ]
  },
  {
   "cell_type": "markdown",
   "id": "b0c9e0d1",
   "metadata": {},
   "source": [
    "# Problema 1"
   ]
  },
  {
   "cell_type": "code",
   "execution_count": 41,
   "id": "7bfc4714",
   "metadata": {},
   "outputs": [],
   "source": [
    "file_1a = glob.glob('./1_a_*')[0]\n",
    "df_1a = pd.read_json(file_1a)\n",
    "\n",
    "file_1b = glob.glob('./1_b_*')[0]\n",
    "df_1b = pd.read_json(file_1b)"
   ]
  },
  {
   "cell_type": "code",
   "execution_count": 44,
   "id": "8dedd804",
   "metadata": {},
   "outputs": [
    {
     "data": {
      "text/html": [
       "<div>\n",
       "<style scoped>\n",
       "    .dataframe tbody tr th:only-of-type {\n",
       "        vertical-align: middle;\n",
       "    }\n",
       "\n",
       "    .dataframe tbody tr th {\n",
       "        vertical-align: top;\n",
       "    }\n",
       "\n",
       "    .dataframe thead th {\n",
       "        text-align: right;\n",
       "    }\n",
       "</style>\n",
       "<table border=\"1\" class=\"dataframe\">\n",
       "  <thead>\n",
       "    <tr style=\"text-align: right;\">\n",
       "      <th></th>\n",
       "      <th>fitness</th>\n",
       "      <th>objective_function_value</th>\n",
       "      <th>value</th>\n",
       "      <th>generation</th>\n",
       "      <th>run</th>\n",
       "    </tr>\n",
       "  </thead>\n",
       "  <tbody>\n",
       "    <tr>\n",
       "      <th>8</th>\n",
       "      <td>8500.0</td>\n",
       "      <td>-7000.02465</td>\n",
       "      <td>[19.99991783267328, 3.661616330372887e-15]</td>\n",
       "      <td>443</td>\n",
       "      <td>8</td>\n",
       "    </tr>\n",
       "  </tbody>\n",
       "</table>\n",
       "</div>"
      ],
      "text/plain": [
       "   fitness  objective_function_value  \\\n",
       "8   8500.0               -7000.02465   \n",
       "\n",
       "                                        value  generation  run  \n",
       "8  [19.99991783267328, 3.661616330372887e-15]         443    8  "
      ]
     },
     "execution_count": 44,
     "metadata": {},
     "output_type": "execute_result"
    }
   ],
   "source": [
    "df_1a.sort_values(by='fitness', ascending=False).head(1)"
   ]
  },
  {
   "cell_type": "code",
   "execution_count": 38,
   "id": "02168e7c",
   "metadata": {},
   "outputs": [],
   "source": [
    "problems = [\n",
    "    {\"title\": \"1\", \"a\": df_1a, \"b\": df_1b}\n",
    "]"
   ]
  },
  {
   "cell_type": "code",
   "execution_count": 45,
   "id": "d2555e68",
   "metadata": {},
   "outputs": [
    {
     "name": "stdout",
     "output_type": "stream",
     "text": [
      "\t*** 1 ***\n",
      "CONFIG A \n",
      "count      30.000000\n",
      "mean    -7000.034764\n",
      "std         0.338566\n",
      "min     -7000.927077\n",
      "25%     -7000.153061\n",
      "50%     -7000.060855\n",
      "75%     -6999.864883\n",
      "max     -6998.997023\n",
      "Name: objective_function_value, dtype: float64\n",
      "\n",
      "CONFIG B \n",
      "count      30.000000\n",
      "mean    -5821.469547\n",
      "std      2762.802895\n",
      "min     -7919.114445\n",
      "25%     -6859.477088\n",
      "50%     -6645.908436\n",
      "75%     -5995.165053\n",
      "max      4036.671694\n",
      "Name: objective_function_value, dtype: float64\n",
      "MELHOR A \n",
      "   fitness  objective_function_value  \\\n",
      "8   8500.0               -7000.02465   \n",
      "\n",
      "                                        value  generation  run  \n",
      "8  [19.99991783267328, 3.661616330372887e-15]         443    8  \n",
      "\n",
      "MELHOR B \n",
      "       fitness  objective_function_value  \\\n",
      "17  8493.47687              -6989.942369   \n",
      "\n",
      "                                        value  generation  run  \n",
      "17  [26.580788345042475, 0.00410641665395535]         487   17  \n",
      "\n",
      "\t*** \t ***\n",
      "\n"
     ]
    },
    {
     "data": {
      "image/png": "[encoded data removed]",
      "text/plain": [
       "<Figure size 432x288 with 1 Axes>"
      ]
     },
     "metadata": {
      "needs_background": "light"
     },
     "output_type": "display_data"
    }
   ],
   "source": [
    "for p in problems:\n",
    "    print('\\t*** {} ***'.format(p['title']))\n",
    "    \n",
    "    df = pd.DataFrame({\n",
    "        'a': p['a'].objective_function_value,\n",
    "        'b': p['b'].objective_function_value\n",
    "    })\n",
    "    \n",
    "    print('CONFIG A \\n{}\\n'.format(p['a'].objective_function_value.describe()))\n",
    "    print('CONFIG B \\n{}'.format(p['b'].objective_function_value.describe()))\n",
    "    \n",
    "    df.plot(kind='box', showmeans=True, title=p['title'])\n",
    "    \n",
    "    best_of_all_a = p['a'].sort_values(by='fitness', ascending=False).head(1)\n",
    "    best_of_all_b = p['b'].sort_values(by='fitness', ascending=False).head(1)\n",
    "    \n",
    "    print('MELHOR A \\n{}\\n'.format(best_of_all_a))\n",
    "    print('MELHOR B \\n{}\\n'.format(best_of_all_b))\n",
    "    \n",
    "    print('\\t*** \\t ***\\n')"
   ]
  },
  {
   "cell_type": "code",
   "execution_count": null,
   "id": "f6baa2e9",
   "metadata": {},
   "outputs": [],
   "source": []
  }
 ],
 "metadata": {
  "kernelspec": {
   "display_name": "Python 3",
   "language": "python",
   "name": "python3"
  },
  "language_info": {
   "codemirror_mode": {
    "name": "ipython",
    "version": 3
   },
   "file_extension": ".py",
   "mimetype": "text/x-python",
   "name": "python",
   "nbconvert_exporter": "python",
   "pygments_lexer": "ipython3",
   "version": "3.9.6"
  }
 },
 "nbformat": 4,
 "nbformat_minor": 5
}
